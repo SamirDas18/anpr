{
 "cells": [
  {
   "cell_type": "code",
   "execution_count": 1,
   "id": "04dc3ab9",
   "metadata": {},
   "outputs": [],
   "source": [
    "import numpy as np\n",
    "import matplotlib.pyplot as plt\n",
    "import tensorflow as tf"
   ]
  },
  {
   "cell_type": "code",
   "execution_count": 7,
   "id": "2de0554a",
   "metadata": {},
   "outputs": [
    {
     "name": "stdout",
     "output_type": "stream",
     "text": [
      "Requirement already satisfied: opencv-python in c:\\users\\20051\\anaconda3\\lib\\site-packages (4.7.0.72)\n",
      "Requirement already satisfied: numpy>=1.17.0 in c:\\users\\20051\\anaconda3\\lib\\site-packages (from opencv-python) (1.23.5)\n",
      "Note: you may need to restart the kernel to use updated packages.\n"
     ]
    }
   ],
   "source": [
    "pip install opencv-python"
   ]
  },
  {
   "cell_type": "code",
   "execution_count": 2,
   "id": "30f60219",
   "metadata": {},
   "outputs": [
    {
     "ename": "AttributeError",
     "evalue": "partially initialized module 'cv2' has no attribute 'gapi_wip_gst_GStreamerPipeline' (most likely due to a circular import)",
     "output_type": "error",
     "traceback": [
      "\u001b[1;31m---------------------------------------------------------------------------\u001b[0m",
      "\u001b[1;31mAttributeError\u001b[0m                            Traceback (most recent call last)",
      "\u001b[1;32m~\\AppData\\Local\\Temp\\ipykernel_18092\\571303353.py\u001b[0m in \u001b[0;36m<module>\u001b[1;34m\u001b[0m\n\u001b[1;32m----> 1\u001b[1;33m \u001b[1;32mimport\u001b[0m \u001b[0mcv2\u001b[0m\u001b[1;33m\u001b[0m\u001b[1;33m\u001b[0m\u001b[0m\n\u001b[0m",
      "\u001b[1;32m~\\anaconda3\\lib\\site-packages\\cv2\\__init__.py\u001b[0m in \u001b[0;36m<module>\u001b[1;34m\u001b[0m\n\u001b[0;32m    179\u001b[0m \u001b[1;33m\u001b[0m\u001b[0m\n\u001b[0;32m    180\u001b[0m \u001b[1;33m\u001b[0m\u001b[0m\n\u001b[1;32m--> 181\u001b[1;33m \u001b[0mbootstrap\u001b[0m\u001b[1;33m(\u001b[0m\u001b[1;33m)\u001b[0m\u001b[1;33m\u001b[0m\u001b[1;33m\u001b[0m\u001b[0m\n\u001b[0m",
      "\u001b[1;32m~\\anaconda3\\lib\\site-packages\\cv2\\__init__.py\u001b[0m in \u001b[0;36mbootstrap\u001b[1;34m()\u001b[0m\n\u001b[0;32m    173\u001b[0m \u001b[1;33m\u001b[0m\u001b[0m\n\u001b[0;32m    174\u001b[0m     \u001b[1;32mfor\u001b[0m \u001b[0msubmodule\u001b[0m \u001b[1;32min\u001b[0m \u001b[0m__collect_extra_submodules\u001b[0m\u001b[1;33m(\u001b[0m\u001b[0mDEBUG\u001b[0m\u001b[1;33m)\u001b[0m\u001b[1;33m:\u001b[0m\u001b[1;33m\u001b[0m\u001b[1;33m\u001b[0m\u001b[0m\n\u001b[1;32m--> 175\u001b[1;33m         \u001b[1;32mif\u001b[0m \u001b[0m__load_extra_py_code_for_module\u001b[0m\u001b[1;33m(\u001b[0m\u001b[1;34m\"cv2\"\u001b[0m\u001b[1;33m,\u001b[0m \u001b[0msubmodule\u001b[0m\u001b[1;33m,\u001b[0m \u001b[0mDEBUG\u001b[0m\u001b[1;33m)\u001b[0m\u001b[1;33m:\u001b[0m\u001b[1;33m\u001b[0m\u001b[1;33m\u001b[0m\u001b[0m\n\u001b[0m\u001b[0;32m    176\u001b[0m             \u001b[1;32mif\u001b[0m \u001b[0mDEBUG\u001b[0m\u001b[1;33m:\u001b[0m \u001b[0mprint\u001b[0m\u001b[1;33m(\u001b[0m\u001b[1;34m\"Extra Python code for\"\u001b[0m\u001b[1;33m,\u001b[0m \u001b[0msubmodule\u001b[0m\u001b[1;33m,\u001b[0m \u001b[1;34m\"is loaded\"\u001b[0m\u001b[1;33m)\u001b[0m\u001b[1;33m\u001b[0m\u001b[1;33m\u001b[0m\u001b[0m\n\u001b[0;32m    177\u001b[0m \u001b[1;33m\u001b[0m\u001b[0m\n",
      "\u001b[1;32m~\\anaconda3\\lib\\site-packages\\cv2\\__init__.py\u001b[0m in \u001b[0;36m__load_extra_py_code_for_module\u001b[1;34m(base, name, enable_debug_print)\u001b[0m\n\u001b[0;32m     26\u001b[0m     \u001b[0mnative_module\u001b[0m \u001b[1;33m=\u001b[0m \u001b[0msys\u001b[0m\u001b[1;33m.\u001b[0m\u001b[0mmodules\u001b[0m\u001b[1;33m.\u001b[0m\u001b[0mpop\u001b[0m\u001b[1;33m(\u001b[0m\u001b[0mmodule_name\u001b[0m\u001b[1;33m,\u001b[0m \u001b[1;32mNone\u001b[0m\u001b[1;33m)\u001b[0m\u001b[1;33m\u001b[0m\u001b[1;33m\u001b[0m\u001b[0m\n\u001b[0;32m     27\u001b[0m     \u001b[1;32mtry\u001b[0m\u001b[1;33m:\u001b[0m\u001b[1;33m\u001b[0m\u001b[1;33m\u001b[0m\u001b[0m\n\u001b[1;32m---> 28\u001b[1;33m         \u001b[0mpy_module\u001b[0m \u001b[1;33m=\u001b[0m \u001b[0mimportlib\u001b[0m\u001b[1;33m.\u001b[0m\u001b[0mimport_module\u001b[0m\u001b[1;33m(\u001b[0m\u001b[0mmodule_name\u001b[0m\u001b[1;33m)\u001b[0m\u001b[1;33m\u001b[0m\u001b[1;33m\u001b[0m\u001b[0m\n\u001b[0m\u001b[0;32m     29\u001b[0m     \u001b[1;32mexcept\u001b[0m \u001b[0mImportError\u001b[0m \u001b[1;32mas\u001b[0m \u001b[0merr\u001b[0m\u001b[1;33m:\u001b[0m\u001b[1;33m\u001b[0m\u001b[1;33m\u001b[0m\u001b[0m\n\u001b[0;32m     30\u001b[0m         \u001b[1;32mif\u001b[0m \u001b[0menable_debug_print\u001b[0m\u001b[1;33m:\u001b[0m\u001b[1;33m\u001b[0m\u001b[1;33m\u001b[0m\u001b[0m\n",
      "\u001b[1;32m~\\anaconda3\\lib\\importlib\\__init__.py\u001b[0m in \u001b[0;36mimport_module\u001b[1;34m(name, package)\u001b[0m\n\u001b[0;32m    125\u001b[0m                 \u001b[1;32mbreak\u001b[0m\u001b[1;33m\u001b[0m\u001b[1;33m\u001b[0m\u001b[0m\n\u001b[0;32m    126\u001b[0m             \u001b[0mlevel\u001b[0m \u001b[1;33m+=\u001b[0m \u001b[1;36m1\u001b[0m\u001b[1;33m\u001b[0m\u001b[1;33m\u001b[0m\u001b[0m\n\u001b[1;32m--> 127\u001b[1;33m     \u001b[1;32mreturn\u001b[0m \u001b[0m_bootstrap\u001b[0m\u001b[1;33m.\u001b[0m\u001b[0m_gcd_import\u001b[0m\u001b[1;33m(\u001b[0m\u001b[0mname\u001b[0m\u001b[1;33m[\u001b[0m\u001b[0mlevel\u001b[0m\u001b[1;33m:\u001b[0m\u001b[1;33m]\u001b[0m\u001b[1;33m,\u001b[0m \u001b[0mpackage\u001b[0m\u001b[1;33m,\u001b[0m \u001b[0mlevel\u001b[0m\u001b[1;33m)\u001b[0m\u001b[1;33m\u001b[0m\u001b[1;33m\u001b[0m\u001b[0m\n\u001b[0m\u001b[0;32m    128\u001b[0m \u001b[1;33m\u001b[0m\u001b[0m\n\u001b[0;32m    129\u001b[0m \u001b[1;33m\u001b[0m\u001b[0m\n",
      "\u001b[1;32m~\\anaconda3\\lib\\site-packages\\cv2\\gapi\\__init__.py\u001b[0m in \u001b[0;36m<module>\u001b[1;34m\u001b[0m\n\u001b[0;32m    299\u001b[0m \u001b[1;33m\u001b[0m\u001b[0m\n\u001b[0;32m    300\u001b[0m \u001b[1;33m\u001b[0m\u001b[0m\n\u001b[1;32m--> 301\u001b[1;33m \u001b[0mcv\u001b[0m\u001b[1;33m.\u001b[0m\u001b[0mgapi\u001b[0m\u001b[1;33m.\u001b[0m\u001b[0mwip\u001b[0m\u001b[1;33m.\u001b[0m\u001b[0mGStreamerPipeline\u001b[0m \u001b[1;33m=\u001b[0m \u001b[0mcv\u001b[0m\u001b[1;33m.\u001b[0m\u001b[0mgapi_wip_gst_GStreamerPipeline\u001b[0m\u001b[1;33m\u001b[0m\u001b[1;33m\u001b[0m\u001b[0m\n\u001b[0m",
      "\u001b[1;31mAttributeError\u001b[0m: partially initialized module 'cv2' has no attribute 'gapi_wip_gst_GStreamerPipeline' (most likely due to a circular import)"
     ]
    }
   ],
   "source": [
    "import cv2"
   ]
  },
  {
   "cell_type": "code",
   "execution_count": null,
   "id": "52bdf9ed",
   "metadata": {},
   "outputs": [],
   "source": [
    "from tensorflow.keras.preprocessing.image import load_img, img_to_array"
   ]
  },
  {
   "cell_type": "code",
   "execution_count": null,
   "id": "73f0af95",
   "metadata": {},
   "outputs": [],
   "source": [
    "# Load model\n",
    "model = tf.keras.models.load_model('./models/object_detection.h5')\n",
    "print('model loaded sucessfully')"
   ]
  },
  {
   "cell_type": "code",
   "execution_count": null,
   "id": "2af39c8b",
   "metadata": {},
   "outputs": [],
   "source": [
    "path = './test_images/Cars430.png'\n",
    "image = load_img (path) # PIL object\n",
    "image = np.array(image, dtype=np. uint8) # 8 bit array (0,255)\n",
    "image1 = load_img(path, target_size=(224, 224))\n",
    "image_arr_224 = img_to_array(image1)/255.0 # convert into array and get the normalized output"
   ]
  },
  {
   "cell_type": "code",
   "execution_count": 3,
   "id": "cc7cd2ae",
   "metadata": {},
   "outputs": [
    {
     "ename": "NameError",
     "evalue": "name 'image' is not defined",
     "output_type": "error",
     "traceback": [
      "\u001b[1;31m---------------------------------------------------------------------------\u001b[0m",
      "\u001b[1;31mNameError\u001b[0m                                 Traceback (most recent call last)",
      "\u001b[1;32m~\\AppData\\Local\\Temp\\ipykernel_18092\\2864693457.py\u001b[0m in \u001b[0;36m<module>\u001b[1;34m\u001b[0m\n\u001b[0;32m      1\u001b[0m \u001b[1;31m#size of the orginal image\u001b[0m\u001b[1;33m\u001b[0m\u001b[1;33m\u001b[0m\u001b[0m\n\u001b[1;32m----> 2\u001b[1;33m \u001b[0mh\u001b[0m\u001b[1;33m,\u001b[0m\u001b[0mw\u001b[0m\u001b[1;33m,\u001b[0m\u001b[0md\u001b[0m \u001b[1;33m=\u001b[0m \u001b[0mimage\u001b[0m\u001b[1;33m.\u001b[0m\u001b[0mshape\u001b[0m\u001b[1;33m\u001b[0m\u001b[1;33m\u001b[0m\u001b[0m\n\u001b[0m\u001b[0;32m      3\u001b[0m \u001b[0mprint\u001b[0m\u001b[1;33m(\u001b[0m\u001b[1;34m'Height of the image = '\u001b[0m\u001b[1;33m,\u001b[0m\u001b[0mh\u001b[0m\u001b[1;33m)\u001b[0m\u001b[1;33m\u001b[0m\u001b[1;33m\u001b[0m\u001b[0m\n\u001b[0;32m      4\u001b[0m \u001b[0mprint\u001b[0m\u001b[1;33m(\u001b[0m\u001b[1;34m'Width of the image = '\u001b[0m\u001b[1;33m,\u001b[0m\u001b[0mw\u001b[0m\u001b[1;33m)\u001b[0m\u001b[1;33m\u001b[0m\u001b[1;33m\u001b[0m\u001b[0m\n",
      "\u001b[1;31mNameError\u001b[0m: name 'image' is not defined"
     ]
    }
   ],
   "source": [
    "#size of the orginal image\n",
    "h,w,d = image.shape\n",
    "print('Height of the image = ',h)\n",
    "print('Width of the image = ',w)"
   ]
  },
  {
   "cell_type": "code",
   "execution_count": null,
   "id": "ca500202",
   "metadata": {
    "scrolled": true
   },
   "outputs": [],
   "source": [
    "plt.figure(figsize=(10,8))\n",
    "plt.imshow(image)\n",
    "plt.show"
   ]
  },
  {
   "cell_type": "code",
   "execution_count": null,
   "id": "0e2e5545",
   "metadata": {},
   "outputs": [],
   "source": [
    "image_arr_224.shape"
   ]
  },
  {
   "cell_type": "code",
   "execution_count": null,
   "id": "6ffadd9a",
   "metadata": {},
   "outputs": [],
   "source": [
    "test_arr = image_arr_224.reshape(1,224,224,3)\n",
    "test_arr.shape"
   ]
  },
  {
   "cell_type": "code",
   "execution_count": null,
   "id": "8775ccc5",
   "metadata": {},
   "outputs": [],
   "source": [
    "coords = model.predict(test_arr)\n",
    "#denormalize the values\n",
    "denorm = np.array([w,w,h,h])\n",
    "coords = coords * denorm\n",
    "coords = coords.astype(np.int32)\n",
    "coords"
   ]
  },
  {
   "cell_type": "code",
   "execution_count": null,
   "id": "82ea3946",
   "metadata": {},
   "outputs": [],
   "source": [
    "#draw bounding on top the image\n",
    "xmin, xmax, ymin, ymax = coords[0]\n",
    "pt1 =(xmin,ymin)\n",
    "pt2 =(xmax,ymax)\n",
    "print (pt1, pt2)\n",
    "cv2.rectangle(image, pt1, pt2,(0,255,0), 3)\n",
    "\n",
    "plt.figure(figsize=(10,8))\n",
    "plt.imshow(image)\n",
    "plt.show()"
   ]
  },
  {
   "cell_type": "code",
   "execution_count": null,
   "id": "a453e336",
   "metadata": {},
   "outputs": [],
   "source": [
    "#create pipeline\n",
    "\n",
    "path = './test_images/Cars430.png'\n",
    "def object_detection(path):\n",
    "    #read image\n",
    "    image = load_img (path) # PIL object\n",
    "    image = np.array(image, dtype=np. uint8) # 8 bit array (0,255)\n",
    "    image1 = load_img(path, target_size=(224, 224))\n",
    "    #data preprocessing\n",
    "    image_arr_224 = img_to_array(image1)/255.0 # convert into array and get the normalized output\n",
    "    #size of the orginal image\n",
    "    h,w,d = image.shape\n",
    "    test_arr = image_arr_224.reshape(1,224,224,3)\n",
    "    #make prediction\n",
    "    coords = model.predict(test_arr)\n",
    "    #denormalize the values\n",
    "    denorm = np.array([w,w,h,h])\n",
    "    coords = coords * denorm\n",
    "    coords = coords.astype(np.int32)\n",
    "    #draw boundary\n",
    "    xmin, xmax, ymin, ymax = coords[0]\n",
    "    pt1 =(xmin,ymin)\n",
    "    pt2 =(xmax,ymax)\n",
    "    print (pt1, pt2)\n",
    "    cv2.rectangle(image, pt1, pt2,(0,255,0), 3)\n",
    "    return image,coords"
   ]
  },
  {
   "cell_type": "code",
   "execution_count": null,
   "id": "7878950b",
   "metadata": {
    "scrolled": true
   },
   "outputs": [],
   "source": [
    "path = './test_images/Cars412.png'\n",
    "image,cods = object_detection(path)\n",
    "\n",
    "plt.figure(figsize=(10,8))\n",
    "plt.imshow(image)\n",
    "plt.show()"
   ]
  },
  {
   "cell_type": "code",
   "execution_count": null,
   "id": "18c8f27b",
   "metadata": {},
   "outputs": [],
   "source": [
    "#### OCR"
   ]
  },
  {
   "cell_type": "code",
   "execution_count": null,
   "id": "ad34a8aa",
   "metadata": {},
   "outputs": [],
   "source": [
    "import pytesseract as pt"
   ]
  },
  {
   "cell_type": "code",
   "execution_count": null,
   "id": "d91eca79",
   "metadata": {},
   "outputs": [],
   "source": [
    "import easyocr"
   ]
  },
  {
   "cell_type": "code",
   "execution_count": null,
   "id": "c7996846",
   "metadata": {},
   "outputs": [],
   "source": [
    "path = './test_images/Cars422.png'\n",
    "image, cods = object_detection(path)\n",
    "plt.figure(figsize=(10,8))\n",
    "plt.imshow(image)\n",
    "plt.show()"
   ]
  },
  {
   "cell_type": "code",
   "execution_count": null,
   "id": "0897675a",
   "metadata": {},
   "outputs": [],
   "source": [
    "img = np.array(load_img(path))\n",
    "xmin, xmax, ymin, ymax = cods[0]\n",
    "roi =img[ymin:ymax,xmin:xmax]\n",
    "plt.imshow(roi)\n",
    "plt.show"
   ]
  },
  {
   "cell_type": "code",
   "execution_count": null,
   "id": "bca5fd0d",
   "metadata": {},
   "outputs": [],
   "source": [
    "#!pip install easyocr\n",
    "#!pip install imutils"
   ]
  },
  {
   "cell_type": "code",
   "execution_count": null,
   "id": "61ecb2f0",
   "metadata": {},
   "outputs": [],
   "source": [
    "reader = easyocr.Reader(['en'])\n",
    "result = reader.readtext(roi)\n",
    "result\n",
    "\n",
    "text = result[0][-2]\n",
    "text"
   ]
  },
  {
   "cell_type": "code",
   "execution_count": null,
   "id": "e6ca57bb",
   "metadata": {},
   "outputs": [],
   "source": [
    "#all combine\n",
    "path = './test_images/Cars275.png'\n",
    "image, cods = object_detection(path)\n",
    "plt.figure(figsize=(10,8))\n",
    "plt.imshow(image)\n",
    "plt.show()\n",
    "img = np.array(load_img(path))\n",
    "xmin, xmax, ymin, ymax = cods[0]\n",
    "roi =img[ymin:ymax,xmin:xmax]\n",
    "plt.imshow(roi)\n",
    "plt.show\n",
    "reader = easyocr.Reader(['en'])\n",
    "result = reader.readtext(roi)\n",
    "result\n",
    "\n",
    "text = result[0][-2]\n",
    "text"
   ]
  },
  {
   "cell_type": "code",
   "execution_count": null,
   "id": "20c7838c",
   "metadata": {},
   "outputs": [],
   "source": [
    "#testing same code\n",
    "path = './test_images/Cars1.png'\n",
    "image, cods = object_detection(path)\n",
    "plt.figure(figsize=(10,8))\n",
    "plt.imshow(image)\n",
    "plt.show()\n",
    "img = np.array(load_img(path))\n",
    "xmin, xmax, ymin, ymax = cods[0]\n",
    "roi =img[ymin:ymax,xmin:xmax]\n",
    "plt.imshow(roi)\n",
    "plt.show\n",
    "reader = easyocr.Reader(['en'])\n",
    "result = reader.readtext(roi)\n",
    "result\n"
   ]
  },
  {
   "cell_type": "code",
   "execution_count": null,
   "id": "70272db3",
   "metadata": {},
   "outputs": [],
   "source": [
    "\n",
    "\n",
    "pipeline = keras_ocr.pipeline.Pipeline()\n",
    "\n",
    "images = [\n",
    "    keras_ocr.tools.read(image)\n",
    "]\n",
    "\n",
    "print(images[0])\n",
    "\n",
    "prediction_groups = pipeline.recognize(images)\n",
    "\n",
    "predicted_image_1 = prediction_groups[0]\n",
    "for text, box in predicted_image_1:\n",
    "    print(text)\n"
   ]
  },
  {
   "cell_type": "code",
   "execution_count": null,
   "id": "94771596",
   "metadata": {},
   "outputs": [],
   "source": [
    "'''\n",
    "import keras_ocr \n",
    "pipeline = keras_ocr.pipeline.Pipeline()\n",
    "\n",
    "images = [\n",
    "    keras_ocr.tools.read(roi)\n",
    "]\n",
    "\n",
    "print(images[0])\n",
    "\n",
    "prediction_groups = pipeline.recognize(images)\n",
    "\n",
    "predicted_image_1 = prediction_groups[0]\n",
    "for text, box in predicted_image_1:\n",
    "    print(text)'''"
   ]
  },
  {
   "cell_type": "code",
   "execution_count": null,
   "id": "34c87d71",
   "metadata": {},
   "outputs": [],
   "source": [
    "path = './test_images/Cars424.png'\n",
    "image, cods = object_detection(path)\n",
    "plt.figure(figsize=(10,8))\n",
    "plt.imshow(image)\n",
    "plt.show()\n",
    "img = np.array(load_img(path))\n",
    "xmin, xmax, ymin, ymax = cods[0]\n",
    "roi =img[ymin:ymax,xmin:xmax]\n",
    "plt.imshow(roi)\n",
    "plt.show\n",
    "pipeline = keras_ocr.pipeline.Pipeline()\n",
    "\n",
    "images = [\n",
    "    keras_ocr.tools.read(roi)\n",
    "]\n",
    "\n",
    "print(images[0])\n",
    "\n",
    "prediction_groups = pipeline.recognize(images)\n",
    "\n",
    "predicted_image_1 = prediction_groups[0]\n",
    "for text, box in predicted_image_1:\n",
    "    print(text)"
   ]
  },
  {
   "cell_type": "code",
   "execution_count": null,
   "id": "e3ecb2c9",
   "metadata": {},
   "outputs": [],
   "source": []
  },
  {
   "cell_type": "code",
   "execution_count": null,
   "id": "d55f5d8a",
   "metadata": {},
   "outputs": [],
   "source": []
  },
  {
   "cell_type": "code",
   "execution_count": null,
   "id": "68cb1684",
   "metadata": {},
   "outputs": [],
   "source": []
  }
 ],
 "metadata": {
  "kernelspec": {
   "display_name": "Python 3 (ipykernel)",
   "language": "python",
   "name": "python3"
  },
  "language_info": {
   "codemirror_mode": {
    "name": "ipython",
    "version": 3
   },
   "file_extension": ".py",
   "mimetype": "text/x-python",
   "name": "python",
   "nbconvert_exporter": "python",
   "pygments_lexer": "ipython3",
   "version": "3.10.9"
  }
 },
 "nbformat": 4,
 "nbformat_minor": 5
}
